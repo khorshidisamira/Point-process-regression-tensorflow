{
 "cells": [
  {
   "cell_type": "code",
   "execution_count": 1,
   "metadata": {
    "_cell_guid": "b1076dfc-b9ad-4769-8c92-a6c4dae69d19",
    "_uuid": "8f2839f25d086af736a60e9eeb907d3b93b6e0e5"
   },
   "outputs": [],
   "source": [
    "import numpy as np # linear algebra\n",
    "import pandas as pd # data processing, CSV file I/O (e.g. pd.read_csv)"
   ]
  },
  {
   "cell_type": "code",
   "execution_count": 44,
   "metadata": {
    "_cell_guid": "79c7e3d0-c299-4dcb-8224-4455121ee9b0",
    "_uuid": "d629ff2d2480ee46fbb7e2d37f6b5fab8052498a"
   },
   "outputs": [
    {
     "name": "stdout",
     "output_type": "stream",
     "text": [
      "Int64Index([0, 1, 2, 3, 4, 5], dtype='int64')\n",
      "['0.422446784097701' '0.971882796380669' '0.53363644448109'\n",
      " '0.0582286159042269' '0.912142771296203' 1.0]\n",
      "5\n",
      "(1000, 7)\n"
     ]
    }
   ],
   "source": [
    "import numpy as np\n",
    "import pandas as pd\n",
    "import matplotlib.pyplot as plt\n",
    "import tensorflow as tf\n",
    "import warnings\n",
    "warnings.filterwarnings(\"ignore\")\n",
    "\n",
    "w_true = 2.0\n",
    "b_true = 3.0\n",
    "df=pd.read_csv('./poisson_regression_data.csv', sep=',',header=None)\n",
    "print(df.columns)\n",
    "data_x = df.iloc[1:,1:6].values\n",
    "data_x = np.c_[ data_x, np.ones(data_x.shape[0]) ] #For w6(intercept)\n",
    "data_y = df.iloc[1:,0].values\n",
    "data = np.column_stack((data_x, data_y))\n",
    "\n",
    "print(data_x[0,:])\n",
    "print(data_y[0,])\n",
    "print(data.shape)"
   ]
  },
  {
   "cell_type": "code",
   "execution_count": 47,
   "metadata": {},
   "outputs": [
    {
     "name": "stdout",
     "output_type": "stream",
     "text": [
      "Epoch 0 Loss =  0.97452265\n",
      "Epoch 500 Loss =  -2.216732\n",
      "Epoch 1000 Loss =  -2.4454648\n",
      "Epoch 1500 Loss =  -2.6070743\n",
      "Epoch 2000 Loss =  -2.7225094\n",
      "Epoch 2500 Loss =  -2.8055322\n",
      "Epoch 3000 Loss =  -2.865638\n",
      "Epoch 3500 Loss =  -2.9094245\n",
      "Epoch 4000 Loss =  -2.9415133\n",
      "Epoch 4500 Loss =  -2.9651656\n",
      "Epoch 5000 Loss =  -2.9826972\n",
      "Epoch 5500 Loss =  -2.9957669\n",
      "Epoch 6000 Loss =  -3.0055656\n",
      "Epoch 6500 Loss =  -3.0129545\n",
      "Epoch 7000 Loss =  -3.0185611\n",
      "Epoch 7500 Loss =  -3.0228422\n",
      "Epoch 8000 Loss =  -3.0261333\n",
      "Epoch 8500 Loss =  -3.02868\n",
      "Epoch 9000 Loss =  -3.030666\n",
      "Epoch 9500 Loss =  -3.0322256\n",
      "[[ 2.2782164 ]\n",
      " [-1.0356514 ]\n",
      " [ 0.73949134]\n",
      " [-0.49439555]\n",
      " [ 0.2816282 ]\n",
      " [ 0.2806883 ]]\n"
     ]
    }
   ],
   "source": [
    "X = tf.constant(data_x, name = 'X', dtype=tf.float32)\n",
    "y = tf.constant(value = data_y, dtype = tf.float32, name='y', shape=(data_x.shape[0], 1))\n",
    "\n",
    "w = tf.Variable(tf.zeros([data_x.shape[1], 1]))\n",
    "lambda_v = tf.exp(tf.matmul(X, w))\n",
    "\n",
    "loss = tf.reduce_mean(-y*tf.log(lambda_v) + lambda_v)\n",
    "\n",
    "optimizer = tf.train.GradientDescentOptimizer(learning_rate=0.001)\n",
    "training_op = optimizer.minimize(loss)\n",
    "\n",
    "n_epochs = 10000\n",
    "\n",
    "with tf.Session() as sess:\n",
    "    tf.global_variables_initializer().run()\n",
    "    for epoch in range(n_epochs):\n",
    "        sess.run(training_op)\n",
    "        if epoch % 500 == 0:\n",
    "            print(\"Epoch\", epoch, \"Loss = \", loss.eval())\n",
    "    optimal_w = w.eval()\n",
    "    \n",
    "print(optimal_w)"
   ]
  }
 ],
 "metadata": {
  "kernelspec": {
   "display_name": "Python 3",
   "language": "python",
   "name": "python3"
  },
  "language_info": {
   "codemirror_mode": {
    "name": "ipython",
    "version": 3
   },
   "file_extension": ".py",
   "mimetype": "text/x-python",
   "name": "python",
   "nbconvert_exporter": "python",
   "pygments_lexer": "ipython3",
   "version": "3.7.3"
  }
 },
 "nbformat": 4,
 "nbformat_minor": 1
}
